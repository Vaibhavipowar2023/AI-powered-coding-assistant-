{
  "nbformat": 4,
  "nbformat_minor": 0,
  "metadata": {
    "colab": {
      "provenance": [],
      "gpuType": "V28"
    },
    "kernelspec": {
      "name": "python3",
      "display_name": "Python 3"
    },
    "language_info": {
      "name": "python"
    },
    "accelerator": "TPU"
  },
  "cells": [
    {
      "cell_type": "markdown",
      "source": [
        "# **AI-powered coding assistant**\n",
        "\n",
        "This notebook is an AI-powered coding assistant that helps with various programming tasks using the Gemini API. You can use it to detect the programming language of a code snippet, generate code based on a prompt, review code for improvements, and even fix bugs with debugging hints. Just enter your request, and the assistant will handle the rest! 🚀\n",
        "\n"
      ],
      "metadata": {
        "id": "Rf8DDh_E86NT"
      }
    },
    {
      "cell_type": "markdown",
      "source": [
        "# Install necessary Libraries"
      ],
      "metadata": {
        "id": "eFNKC9bC7BWx"
      }
    },
    {
      "cell_type": "code",
      "source": [
        "!pip install google-generativeai"
      ],
      "metadata": {
        "colab": {
          "base_uri": "https://localhost:8080/"
        },
        "id": "0ECTX8FpuYqF",
        "outputId": "dd8d7847-88d1-41ac-9d7f-63121ccb05d7"
      },
      "execution_count": 40,
      "outputs": [
        {
          "output_type": "stream",
          "name": "stdout",
          "text": [
            "Requirement already satisfied: google-generativeai in /usr/local/lib/python3.11/dist-packages (0.8.4)\n",
            "Requirement already satisfied: pygments in /usr/local/lib/python3.11/dist-packages (2.19.1)\n",
            "Requirement already satisfied: google-ai-generativelanguage==0.6.15 in /usr/local/lib/python3.11/dist-packages (from google-generativeai) (0.6.15)\n",
            "Requirement already satisfied: google-api-core in /usr/local/lib/python3.11/dist-packages (from google-generativeai) (2.24.1)\n",
            "Requirement already satisfied: google-api-python-client in /usr/local/lib/python3.11/dist-packages (from google-generativeai) (2.160.0)\n",
            "Requirement already satisfied: google-auth>=2.15.0 in /usr/local/lib/python3.11/dist-packages (from google-generativeai) (2.27.0)\n",
            "Requirement already satisfied: protobuf in /usr/local/lib/python3.11/dist-packages (from google-generativeai) (5.29.3)\n",
            "Requirement already satisfied: pydantic in /usr/local/lib/python3.11/dist-packages (from google-generativeai) (2.10.6)\n",
            "Requirement already satisfied: tqdm in /usr/local/lib/python3.11/dist-packages (from google-generativeai) (4.67.1)\n",
            "Requirement already satisfied: typing-extensions in /usr/local/lib/python3.11/dist-packages (from google-generativeai) (4.12.2)\n",
            "Requirement already satisfied: proto-plus<2.0.0dev,>=1.22.3 in /usr/local/lib/python3.11/dist-packages (from google-ai-generativelanguage==0.6.15->google-generativeai) (1.26.0)\n",
            "Requirement already satisfied: googleapis-common-protos<2.0.dev0,>=1.56.2 in /usr/local/lib/python3.11/dist-packages (from google-api-core->google-generativeai) (1.66.0)\n",
            "Requirement already satisfied: requests<3.0.0.dev0,>=2.18.0 in /usr/local/lib/python3.11/dist-packages (from google-api-core->google-generativeai) (2.32.3)\n",
            "Requirement already satisfied: cachetools<6.0,>=2.0.0 in /usr/local/lib/python3.11/dist-packages (from google-auth>=2.15.0->google-generativeai) (5.5.1)\n",
            "Requirement already satisfied: pyasn1-modules>=0.2.1 in /usr/local/lib/python3.11/dist-packages (from google-auth>=2.15.0->google-generativeai) (0.4.1)\n",
            "Requirement already satisfied: rsa<5,>=3.1.4 in /usr/local/lib/python3.11/dist-packages (from google-auth>=2.15.0->google-generativeai) (4.9)\n",
            "Requirement already satisfied: httplib2<1.dev0,>=0.19.0 in /usr/lib/python3/dist-packages (from google-api-python-client->google-generativeai) (0.20.2)\n",
            "Requirement already satisfied: google-auth-httplib2<1.0.0,>=0.2.0 in /usr/local/lib/python3.11/dist-packages (from google-api-python-client->google-generativeai) (0.2.0)\n",
            "Requirement already satisfied: uritemplate<5,>=3.0.1 in /usr/local/lib/python3.11/dist-packages (from google-api-python-client->google-generativeai) (4.1.1)\n",
            "Requirement already satisfied: annotated-types>=0.6.0 in /usr/local/lib/python3.11/dist-packages (from pydantic->google-generativeai) (0.7.0)\n",
            "Requirement already satisfied: pydantic-core==2.27.2 in /usr/local/lib/python3.11/dist-packages (from pydantic->google-generativeai) (2.27.2)\n",
            "Requirement already satisfied: grpcio<2.0dev,>=1.33.2 in /usr/local/lib/python3.11/dist-packages (from google-api-core[grpc]!=2.0.*,!=2.1.*,!=2.10.*,!=2.2.*,!=2.3.*,!=2.4.*,!=2.5.*,!=2.6.*,!=2.7.*,!=2.8.*,!=2.9.*,<3.0.0dev,>=1.34.1->google-ai-generativelanguage==0.6.15->google-generativeai) (1.70.0)\n",
            "Requirement already satisfied: grpcio-status<2.0.dev0,>=1.33.2 in /usr/local/lib/python3.11/dist-packages (from google-api-core[grpc]!=2.0.*,!=2.1.*,!=2.10.*,!=2.2.*,!=2.3.*,!=2.4.*,!=2.5.*,!=2.6.*,!=2.7.*,!=2.8.*,!=2.9.*,<3.0.0dev,>=1.34.1->google-ai-generativelanguage==0.6.15->google-generativeai) (1.70.0)\n",
            "Requirement already satisfied: pyparsing!=3.0.0,!=3.0.1,!=3.0.2,!=3.0.3,<4,>=2.4.2 in /usr/local/lib/python3.11/dist-packages (from httplib2<1.dev0,>=0.19.0->google-api-python-client->google-generativeai) (3.2.1)\n",
            "Requirement already satisfied: pyasn1<0.7.0,>=0.4.6 in /usr/local/lib/python3.11/dist-packages (from pyasn1-modules>=0.2.1->google-auth>=2.15.0->google-generativeai) (0.6.1)\n",
            "Requirement already satisfied: charset-normalizer<4,>=2 in /usr/local/lib/python3.11/dist-packages (from requests<3.0.0.dev0,>=2.18.0->google-api-core->google-generativeai) (3.4.1)\n",
            "Requirement already satisfied: idna<4,>=2.5 in /usr/local/lib/python3.11/dist-packages (from requests<3.0.0.dev0,>=2.18.0->google-api-core->google-generativeai) (3.10)\n",
            "Requirement already satisfied: urllib3<3,>=1.21.1 in /usr/local/lib/python3.11/dist-packages (from requests<3.0.0.dev0,>=2.18.0->google-api-core->google-generativeai) (2.3.0)\n",
            "Requirement already satisfied: certifi>=2017.4.17 in /usr/local/lib/python3.11/dist-packages (from requests<3.0.0.dev0,>=2.18.0->google-api-core->google-generativeai) (2025.1.31)\n"
          ]
        }
      ]
    },
    {
      "cell_type": "code",
      "source": [
        "import google.generativeai as genai # Import the module"
      ],
      "metadata": {
        "id": "RuC2cXWwuclj"
      },
      "execution_count": 64,
      "outputs": []
    },
    {
      "cell_type": "markdown",
      "source": [
        "# Set up Gemini API key"
      ],
      "metadata": {
        "id": "wMGE9vc5u-6j"
      }
    },
    {
      "cell_type": "code",
      "source": [
        "GENAI_API_KEY = \"Use API KEY\"\n",
        "genai.configure(api_key=GENAI_API_KEY)"
      ],
      "metadata": {
        "id": "peJoCQ-7ul3v"
      },
      "execution_count": 66,
      "outputs": []
    },
    {
      "cell_type": "markdown",
      "source": [
        "# List of Support programming languages"
      ],
      "metadata": {
        "id": "D3KCYn8I7Zi_"
      }
    },
    {
      "cell_type": "code",
      "source": [
        "#Support programming language\n",
        "SUPPORTED_LANGUAGES = [\n",
        "    \"Python\", \"JavaScript\", \"Java\", \"C++\", \"C\", \"C#\", \"Go\", \"Rust\", \"Swift\", \"Kotlin\", \"TypeScript\",\n",
        "    \"PHP\", \"Ruby\", \"R\", \"Dart\", \"Perl\", \"Scala\", \"Objective-C\", \"SQL\", \"Shell\", \"Bash\"\n",
        "]"
      ],
      "metadata": {
        "id": "mzrHcqC_4E4h"
      },
      "execution_count": 51,
      "outputs": []
    },
    {
      "cell_type": "markdown",
      "source": [
        "# Function for Detect language"
      ],
      "metadata": {
        "id": "fjBsQLhw7jnP"
      }
    },
    {
      "cell_type": "code",
      "source": [
        "def detect_language(code):\n",
        "    \"\"\"Detects the programming language of the given code.\"\"\"\n",
        "    model = genai.GenerativeModel(\"gemini-pro\")\n",
        "    response = model.generate_content(f\"Detect the programming language of this code:\\n\\n{code}\\n\\n\"\n",
        "                                      \"Reply with only the language name.\")\n",
        "    detected_language = response.text.strip()\n",
        "\n",
        "    if detected_language not in SUPPORTED_LANGUAGES:\n",
        "        return \"Unknown\"\n",
        "    return detected_language\n"
      ],
      "metadata": {
        "id": "tXrqUE-F4osa"
      },
      "execution_count": 52,
      "outputs": []
    },
    {
      "cell_type": "markdown",
      "source": [
        "# Generate code"
      ],
      "metadata": {
        "id": "TZ44-PF-7pQy"
      }
    },
    {
      "cell_type": "code",
      "source": [
        "def generate_code(prompt, language=\"Python\"):\n",
        "    \"\"\"Generates code on a natural language prompt\"\"\"\n",
        "    model = genai.GenerativeModel(\"gemini-pro\")\n",
        "    response = model.generate_content(f\"Generate only the {language} code for:\\n{prompt}\")\n",
        "    return response.text.strip()"
      ],
      "metadata": {
        "id": "N1TAK14y4xIe"
      },
      "execution_count": 58,
      "outputs": []
    },
    {
      "cell_type": "markdown",
      "source": [
        "# Explain Code"
      ],
      "metadata": {
        "id": "pm4d_V-a7rdR"
      }
    },
    {
      "cell_type": "code",
      "source": [
        "def explain_code(code):\n",
        "    \"\"\"\n",
        "    Provides an explanation of the given code.\n",
        "    \"\"\"\n",
        "    model = genai.GenerativeModel(\"gemini-pro\")\n",
        "    response = model.generate_content(f\"Explain the following code:\\n\\n{code}\")\n",
        "\n",
        "    return response.text.strip()"
      ],
      "metadata": {
        "id": "jR0el8bS5rHl"
      },
      "execution_count": 59,
      "outputs": []
    },
    {
      "cell_type": "markdown",
      "source": [
        "# Review code"
      ],
      "metadata": {
        "id": "ikOBHqre7tZ3"
      }
    },
    {
      "cell_type": "code",
      "source": [
        "def review_code(code):\n",
        "    \"\"\"Reviews the given code for best practices, efficiency, and improvements.\"\"\"\n",
        "    language = detect_language(code)\n",
        "    model = genai.GenerativeModel(\"gemini-pro\")\n",
        "    response = model.generate_content(f\"Review the following {language} code for best practices, efficiency, \"\n",
        "                                      f\"and possible improvements:\\n\\n{code}\")\n",
        "    return response.text.strip()\n"
      ],
      "metadata": {
        "id": "6mcPrhKj4yg3"
      },
      "execution_count": 54,
      "outputs": []
    },
    {
      "cell_type": "markdown",
      "source": [
        "# Detect and fix bugs"
      ],
      "metadata": {
        "id": "QJ4wXA9D7x_H"
      }
    },
    {
      "cell_type": "code",
      "source": [
        "def detect_and_fix_bugs(code):\n",
        "    \"\"\"Detects errors in the given code, fixes them, and provides debugging hints.\"\"\"\n",
        "    language = detect_language(code)\n",
        "    model = genai.GenerativeModel(\"gemini-pro\")\n",
        "    response = model.generate_content(f\"Fix any errors in the given {language} code and provide debugging hints.\\n\\n\"\n",
        "                                      f\"Code:\\n{code}\\n\\n\"\n",
        "                                      \"Return the corrected code first, followed by debugging hints explaining what was fixed.\")\n",
        "    return response.text.strip()\n"
      ],
      "metadata": {
        "id": "FTMi3Noz4zmy"
      },
      "execution_count": 55,
      "outputs": []
    },
    {
      "cell_type": "markdown",
      "source": [
        "# Main execution block"
      ],
      "metadata": {
        "id": "OVOqVgdl70zX"
      }
    },
    {
      "cell_type": "code",
      "source": [
        "if __name__ == \"__main__\":\n",
        "    user_prompt = input(\"\\nEnter your request (e.g., 'Generate code for...', 'Fix this code:', 'Review this code'):\\n\")\n",
        "\n",
        "    if \"fix\" in user_prompt.lower():\n",
        "        print(\"\\n🛠 Paste your code below (Press Enter twice when done):\\n\")\n",
        "\n",
        "        user_code = []\n",
        "        while True:\n",
        "            try:\n",
        "                line = input()  # Read user input line by line\n",
        "                if line.strip() == \"\": # Stop when an empty line is entered\n",
        "                    break\n",
        "                user_code.append(line)\n",
        "            except EOFError:\n",
        "                break\n",
        "\n",
        "        user_code = \"\\n\".join(user_code) # Join lines to form complete code\n",
        "\n",
        "        # Fix errors in the code\n",
        "        if user_code.strip():\n",
        "            fixed_code_with_hints = detect_and_fix_bugs(user_code)\n",
        "            print(\"\\n✅ Fixed Code and Debugging Hints:\\n\", fixed_code_with_hints)\n",
        "        else:\n",
        "            print(\"\\n❌ No code provided.\")\n",
        "\n",
        "    # Perform code review\n",
        "    elif \"review\" in user_prompt.lower():\n",
        "        print(\"\\n🛠 Paste your code below (Press Enter twice when done):\\n\")\n",
        "\n",
        "        user_code = []\n",
        "        while True:\n",
        "            try:\n",
        "                line = input()\n",
        "                if line.strip() == \"\":\n",
        "                    break\n",
        "                user_code.append(line)\n",
        "            except EOFError:\n",
        "                break\n",
        "\n",
        "        user_code = \"\\n\".join(user_code)\n",
        "\n",
        "        if user_code.strip():\n",
        "            review_feedback = review_code(user_code)\n",
        "            print(\"\\n🔍 Code Review:\\n\", review_feedback)\n",
        "        else:\n",
        "            print(\"\\n❌ No code provided.\")\n",
        "\n",
        "    else:\n",
        "        print(\"\\n🌎 Supported Languages: \", \", \".join(SUPPORTED_LANGUAGES))\n",
        "        selected_language = input(\"\\nEnter the programming language (default: Python): \") or \"Python\"\n",
        "\n",
        "        if selected_language not in SUPPORTED_LANGUAGES:\n",
        "            print(f\"\\n⚠️ Unsupported language: {selected_language}. Defaulting to Python.\")\n",
        "            selected_language = \"Python\"\n",
        "\n",
        "        # Generate code based on user request\n",
        "        generated_code = generate_code(user_prompt, selected_language)\n",
        "        print(\"\\n📝 Generated Code:\\n\", generated_code)"
      ],
      "metadata": {
        "colab": {
          "base_uri": "https://localhost:8080/",
          "height": 435
        },
        "id": "2_zyI5Fs41Qe",
        "outputId": "aca53326-09c6-4767-c5a8-c9e30e92dd00"
      },
      "execution_count": 63,
      "outputs": [
        {
          "output_type": "stream",
          "name": "stdout",
          "text": [
            "\n",
            "Enter your request (e.g., 'Generate code for...', 'Fix this code:', 'Review this code'):\n",
            "Fix the error\n",
            "\n",
            "🛠 Paste your code below (Press Enter twice when done):\n",
            "\n",
            "printf(\"hello word\"\n",
            "\n",
            "\n",
            "✅ Fixed Code and Debugging Hints:\n",
            " **Corrected Code:**\n",
            "\n",
            "```c\n",
            "printf(\"hello world\");\n",
            "```\n",
            "\n",
            "**Debugging Hints:**\n",
            "\n",
            "* The original code had a missing closing double quote after \"hello word\". This prevented the string from being properly printed.\n",
            "* To debug such errors, it's helpful to:\n",
            "    * Check that all strings are properly enclosed in double quotes.\n",
            "    * Ensure that there are no extra characters or spaces within the string.\n"
          ]
        }
      ]
    },
    {
      "cell_type": "code",
      "source": [
        "if __name__ == \"__main__\":\n",
        "    user_prompt = input(\"\\nEnter your request (e.g., 'Generate code for...', 'Fix this code:', 'Review this code'):\\n\")\n",
        "\n",
        "    if \"fix\" in user_prompt.lower():\n",
        "        print(\"\\n🛠 Paste your code below (Press Enter twice when done):\\n\")\n",
        "\n",
        "        user_code = []\n",
        "        while True:\n",
        "            try:\n",
        "                line = input()  # Read user input line by line\n",
        "                if line.strip() == \"\": # Stop when an empty line is entered\n",
        "                    break\n",
        "                user_code.append(line)\n",
        "            except EOFError:\n",
        "                break\n",
        "\n",
        "        user_code = \"\\n\".join(user_code) # Join lines to form complete code\n",
        "\n",
        "        # Fix errors in the code\n",
        "        if user_code.strip():\n",
        "            fixed_code_with_hints = detect_and_fix_bugs(user_code)\n",
        "            print(\"\\n✅ Fixed Code and Debugging Hints:\\n\", fixed_code_with_hints)\n",
        "        else:\n",
        "            print(\"\\n❌ No code provided.\")\n",
        "\n",
        "    # Perform code review\n",
        "    elif \"review\" in user_prompt.lower():\n",
        "        print(\"\\n🛠 Paste your code below (Press Enter twice when done):\\n\")\n",
        "\n",
        "        user_code = []\n",
        "        while True:\n",
        "            try:\n",
        "                line = input()\n",
        "                if line.strip() == \"\":\n",
        "                    break\n",
        "                user_code.append(line)\n",
        "            except EOFError:\n",
        "                break\n",
        "\n",
        "        user_code = \"\\n\".join(user_code)\n",
        "\n",
        "        if user_code.strip():\n",
        "            review_feedback = review_code(user_code)\n",
        "            print(\"\\n🔍 Code Review:\\n\", review_feedback)\n",
        "        else:\n",
        "            print(\"\\n❌ No code provided.\")\n",
        "\n",
        "    else:\n",
        "        print(\"\\n🌎 Supported Languages: \", \", \".join(SUPPORTED_LANGUAGES))\n",
        "        selected_language = input(\"\\nEnter the programming language (default: Python): \") or \"Python\"\n",
        "\n",
        "        if selected_language not in SUPPORTED_LANGUAGES:\n",
        "            print(f\"\\n⚠️ Unsupported language: {selected_language}. Defaulting to Python.\")\n",
        "            selected_language = \"Python\"\n",
        "\n",
        "        # Generate code based on user request\n",
        "        generated_code = generate_code(user_prompt, selected_language)\n",
        "        print(\"\\n📝 Generated Code:\\n\", generated_code)"
      ],
      "metadata": {
        "colab": {
          "base_uri": "https://localhost:8080/",
          "height": 507
        },
        "id": "1mPjKSBN43iX",
        "outputId": "d883667f-a505-4227-dac0-fddbdfccfa70"
      },
      "execution_count": 65,
      "outputs": [
        {
          "output_type": "stream",
          "name": "stdout",
          "text": [
            "\n",
            "Enter your request (e.g., 'Generate code for...', 'Fix this code:', 'Review this code'):\n",
            "Generate code of addition of 2 numbers\n",
            "\n",
            "🌎 Supported Languages:  Python, JavaScript, Java, C++, C, C#, Go, Rust, Swift, Kotlin, TypeScript, PHP, Ruby, R, Dart, Perl, Scala, Objective-C, SQL, Shell, Bash\n",
            "\n",
            "Enter the programming language (default: Python): C\n",
            "\n",
            "📝 Generated Code:\n",
            " ```c\n",
            "#include <stdio.h>\n",
            "\n",
            "int main()\n",
            "{\n",
            "  int a, b, sum;\n",
            "\n",
            "  printf(\"Enter two numbers: \");\n",
            "  scanf(\"%d %d\", &a, &b);\n",
            "\n",
            "  sum = a + b;\n",
            "\n",
            "  printf(\"The sum of %d and %d is %d\", a, b, sum);\n",
            "\n",
            "  return 0;\n",
            "}\n",
            "```\n"
          ]
        }
      ]
    },
    {
      "cell_type": "code",
      "source": [],
      "metadata": {
        "id": "V6KyUirc8M18"
      },
      "execution_count": null,
      "outputs": []
    }
  ]
}